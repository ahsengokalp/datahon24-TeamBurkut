{
 "cells": [
  {
   "cell_type": "code",
   "execution_count": 1,
   "id": "a71310f9",
   "metadata": {
    "_cell_guid": "b1076dfc-b9ad-4769-8c92-a6c4dae69d19",
    "_uuid": "8f2839f25d086af736a60e9eeb907d3b93b6e0e5",
    "execution": {
     "iopub.execute_input": "2024-09-12T16:53:31.789169Z",
     "iopub.status.busy": "2024-09-12T16:53:31.787981Z",
     "iopub.status.idle": "2024-09-12T16:53:34.200572Z",
     "shell.execute_reply": "2024-09-12T16:53:34.199288Z"
    },
    "papermill": {
     "duration": 2.42494,
     "end_time": "2024-09-12T16:53:34.203305",
     "exception": false,
     "start_time": "2024-09-12T16:53:31.778365",
     "status": "completed"
    },
    "tags": []
   },
   "outputs": [
    {
     "name": "stdout",
     "output_type": "stream",
     "text": [
      "/kaggle/input/datathon-2024/sample_submission.csv\n",
      "/kaggle/input/datathon-2024/test_x.csv\n",
      "/kaggle/input/datathon-2024/train.csv\n"
     ]
    }
   ],
   "source": [
    "import numpy as np # linear algebra\n",
    "import pandas as pd # data processing, CSV file I/O (e.g. pd.read_csv\n",
    "import matplotlib.pyplot as plt\n",
    "import seaborn as sns\n",
    "from sklearn.preprocessing import MinMaxScaler, StandardScaler\n",
    "import os\n",
    "for dirname, _, filenames in os.walk('/kaggle/input'):\n",
    "    for filename in filenames:\n",
    "        print(os.path.join(dirname, filename))\n",
    "\n"
   ]
  },
  {
   "cell_type": "code",
   "execution_count": 2,
   "id": "68304dd3",
   "metadata": {
    "execution": {
     "iopub.execute_input": "2024-09-12T16:53:34.220572Z",
     "iopub.status.busy": "2024-09-12T16:53:34.219586Z",
     "iopub.status.idle": "2024-09-12T16:53:35.652678Z",
     "shell.execute_reply": "2024-09-12T16:53:35.651446Z"
    },
    "papermill": {
     "duration": 1.444664,
     "end_time": "2024-09-12T16:53:35.655527",
     "exception": false,
     "start_time": "2024-09-12T16:53:34.210863",
     "status": "completed"
    },
    "tags": []
   },
   "outputs": [
    {
     "name": "stderr",
     "output_type": "stream",
     "text": [
      "/tmp/ipykernel_17/4096352259.py:1: DtypeWarning: Columns (13,15,19,30,32,37,41,42) have mixed types. Specify dtype option on import or set low_memory=False.\n",
      "  train_df = pd.read_csv(\"/kaggle/input/datathon-2024/train.csv\")\n"
     ]
    }
   ],
   "source": [
    "train_df = pd.read_csv(\"/kaggle/input/datathon-2024/train.csv\")\n",
    "test_df = pd.read_csv('/kaggle/input/datathon-2024/test_x.csv')"
   ]
  },
  {
   "cell_type": "code",
   "execution_count": 3,
   "id": "0b732d72",
   "metadata": {
    "execution": {
     "iopub.execute_input": "2024-09-12T16:53:35.672354Z",
     "iopub.status.busy": "2024-09-12T16:53:35.671742Z",
     "iopub.status.idle": "2024-09-12T16:53:35.811279Z",
     "shell.execute_reply": "2024-09-12T16:53:35.810121Z"
    },
    "papermill": {
     "duration": 0.150994,
     "end_time": "2024-09-12T16:53:35.814128",
     "exception": false,
     "start_time": "2024-09-12T16:53:35.663134",
     "status": "completed"
    },
    "tags": []
   },
   "outputs": [
    {
     "name": "stdout",
     "output_type": "stream",
     "text": [
      "<class 'pandas.core.frame.DataFrame'>\n",
      "RangeIndex: 65125 entries, 0 to 65124\n",
      "Data columns (total 44 columns):\n",
      " #   Column                                                     Non-Null Count  Dtype  \n",
      "---  ------                                                     --------------  -----  \n",
      " 0   Basvuru Yili                                               65125 non-null  int64  \n",
      " 1   Degerlendirme Puani                                        65124 non-null  float64\n",
      " 2   Cinsiyet                                                   64956 non-null  object \n",
      " 3   Dogum Tarihi                                               64948 non-null  object \n",
      " 4   Dogum Yeri                                                 64334 non-null  object \n",
      " 5   Ikametgah Sehri                                            63088 non-null  object \n",
      " 6   Universite Adi                                             64993 non-null  object \n",
      " 7   Universite Turu                                            64870 non-null  object \n",
      " 8   Burslu ise Burs Yuzdesi                                    22440 non-null  float64\n",
      " 9   Burs Aliyor mu?                                            65125 non-null  object \n",
      " 10  Bölüm                                                      64894 non-null  object \n",
      " 11  Universite Kacinci Sinif                                   64751 non-null  object \n",
      " 12  Universite Not Ortalamasi                                  62372 non-null  object \n",
      " 13  Daha Once Baska Bir Universiteden Mezun Olmus              27780 non-null  object \n",
      " 14  Lise Adi                                                   64741 non-null  object \n",
      " 15  Lise Adi Diger                                             4733 non-null   object \n",
      " 16  Lise Sehir                                                 64071 non-null  object \n",
      " 17  Lise Turu                                                  64278 non-null  object \n",
      " 18  Lise Bolumu                                                64116 non-null  object \n",
      " 19  Lise Bolum Diger                                           1526 non-null   object \n",
      " 20  Lise Mezuniyet Notu                                        59208 non-null  object \n",
      " 21  Baska Bir Kurumdan Burs Aliyor mu?                         64894 non-null  object \n",
      " 22  Burs Aldigi Baska Kurum                                    21148 non-null  object \n",
      " 23  Baska Kurumdan Aldigi Burs Miktari                         20963 non-null  object \n",
      " 24  Anne Egitim Durumu                                         64719 non-null  object \n",
      " 25  Anne Calisma Durumu                                        53229 non-null  object \n",
      " 26  Anne Sektor                                                30588 non-null  object \n",
      " 27  Baba Egitim Durumu                                         64118 non-null  object \n",
      " 28  Baba Calisma Durumu                                        52507 non-null  object \n",
      " 29  Baba Sektor                                                44747 non-null  object \n",
      " 30  Kardes Sayisi                                              63993 non-null  object \n",
      " 31  Girisimcilik Kulupleri Tarzi Bir Kulube Uye misiniz?       63296 non-null  object \n",
      " 32  Uye Oldugunuz Kulubun Ismi                                 16434 non-null  object \n",
      " 33  Profesyonel Bir Spor Daliyla Mesgul musunuz?               64010 non-null  object \n",
      " 34  Spor Dalindaki Rolunuz Nedir?                              32850 non-null  object \n",
      " 35  Aktif olarak bir STK üyesi misiniz?                        52283 non-null  object \n",
      " 36  Hangi STK'nin Uyesisiniz?                                  15607 non-null  object \n",
      " 37  Stk Projesine Katildiniz Mi?                               36817 non-null  object \n",
      " 38  Girisimcilikle Ilgili Deneyiminiz Var Mi?                  52285 non-null  object \n",
      " 39  Girisimcilikle Ilgili Deneyiminizi Aciklayabilir misiniz?  14599 non-null  object \n",
      " 40  Ingilizce Biliyor musunuz?                                 58671 non-null  object \n",
      " 41  Ingilizce Seviyeniz?                                       28592 non-null  object \n",
      " 42  Daha Önceden Mezun Olunduysa, Mezun Olunan Üniversite      419 non-null    object \n",
      " 43  id                                                         65125 non-null  int64  \n",
      "dtypes: float64(2), int64(2), object(40)\n",
      "memory usage: 21.9+ MB\n"
     ]
    }
   ],
   "source": [
    "train_df.info()"
   ]
  },
  {
   "cell_type": "markdown",
   "id": "2fb307b6",
   "metadata": {
    "papermill": {
     "duration": 0.007114,
     "end_time": "2024-09-12T16:53:35.828853",
     "exception": false,
     "start_time": "2024-09-12T16:53:35.821739",
     "status": "completed"
    },
    "tags": []
   },
   "source": [
    "Eğer bir kolonun büyük bir kısmı (örneğin, %50 veya daha fazlası) eksikse, bu kolonu modellemede kullanmak problemli olabilir. Bu durumda, bu kolonu silmek düşünülebilir"
   ]
  },
  {
   "cell_type": "code",
   "execution_count": 4,
   "id": "08d2831f",
   "metadata": {
    "execution": {
     "iopub.execute_input": "2024-09-12T16:53:35.845665Z",
     "iopub.status.busy": "2024-09-12T16:53:35.845269Z",
     "iopub.status.idle": "2024-09-12T16:53:35.973656Z",
     "shell.execute_reply": "2024-09-12T16:53:35.972273Z"
    },
    "papermill": {
     "duration": 0.140154,
     "end_time": "2024-09-12T16:53:35.976542",
     "exception": false,
     "start_time": "2024-09-12T16:53:35.836388",
     "status": "completed"
    },
    "tags": []
   },
   "outputs": [
    {
     "name": "stdout",
     "output_type": "stream",
     "text": [
      "                                                    Eksik Veri Sayısı  \\\n",
      "Daha Önceden Mezun Olunduysa, Mezun Olunan Üniv...              64706   \n",
      "Lise Bolum Diger                                                63599   \n",
      "Lise Adi Diger                                                  60392   \n",
      "Girisimcilikle Ilgili Deneyiminizi Aciklayabili...              50526   \n",
      "Hangi STK'nin Uyesisiniz?                                       49518   \n",
      "Uye Oldugunuz Kulubun Ismi                                      48691   \n",
      "Baska Kurumdan Aldigi Burs Miktari                              44162   \n",
      "Burs Aldigi Baska Kurum                                         43977   \n",
      "Burslu ise Burs Yuzdesi                                         42685   \n",
      "Daha Once Baska Bir Universiteden Mezun Olmus                   37345   \n",
      "Ingilizce Seviyeniz?                                            36533   \n",
      "Anne Sektor                                                     34537   \n",
      "Spor Dalindaki Rolunuz Nedir?                                   32275   \n",
      "Stk Projesine Katildiniz Mi?                                    28308   \n",
      "Baba Sektor                                                     20378   \n",
      "Aktif olarak bir STK üyesi misiniz?                             12842   \n",
      "Girisimcilikle Ilgili Deneyiminiz Var Mi?                       12840   \n",
      "Baba Calisma Durumu                                             12618   \n",
      "Anne Calisma Durumu                                             11896   \n",
      "Ingilizce Biliyor musunuz?                                       6454   \n",
      "Lise Mezuniyet Notu                                              5917   \n",
      "Universite Not Ortalamasi                                        2753   \n",
      "Ikametgah Sehri                                                  2037   \n",
      "Girisimcilik Kulupleri Tarzi Bir Kulube Uye mis...               1829   \n",
      "Kardes Sayisi                                                    1132   \n",
      "Profesyonel Bir Spor Daliyla Mesgul musunuz?                     1115   \n",
      "Lise Sehir                                                       1054   \n",
      "Lise Bolumu                                                      1009   \n",
      "Baba Egitim Durumu                                               1007   \n",
      "Lise Turu                                                         847   \n",
      "Dogum Yeri                                                        791   \n",
      "Anne Egitim Durumu                                                406   \n",
      "Lise Adi                                                          384   \n",
      "Universite Kacinci Sinif                                          374   \n",
      "Universite Turu                                                   255   \n",
      "Bölüm                                                             231   \n",
      "Baska Bir Kurumdan Burs Aliyor mu?                                231   \n",
      "Dogum Tarihi                                                      177   \n",
      "Cinsiyet                                                          169   \n",
      "Universite Adi                                                    132   \n",
      "Degerlendirme Puani                                                 1   \n",
      "\n",
      "                                                    Eksik Veri Oranı (%)  \n",
      "Daha Önceden Mezun Olunduysa, Mezun Olunan Üniv...             99.356622  \n",
      "Lise Bolum Diger                                               97.656814  \n",
      "Lise Adi Diger                                                 92.732438  \n",
      "Girisimcilikle Ilgili Deneyiminizi Aciklayabili...             77.583109  \n",
      "Hangi STK'nin Uyesisiniz?                                      76.035317  \n",
      "Uye Oldugunuz Kulubun Ismi                                     74.765451  \n",
      "Baska Kurumdan Aldigi Burs Miktari                             67.811132  \n",
      "Burs Aldigi Baska Kurum                                        67.527063  \n",
      "Burslu ise Burs Yuzdesi                                        65.543186  \n",
      "Daha Once Baska Bir Universiteden Mezun Olmus                  57.343570  \n",
      "Ingilizce Seviyeniz?                                           56.096737  \n",
      "Anne Sektor                                                    53.031862  \n",
      "Spor Dalindaki Rolunuz Nedir?                                  49.558541  \n",
      "Stk Projesine Katildiniz Mi?                                   43.467179  \n",
      "Baba Sektor                                                    31.290595  \n",
      "Aktif olarak bir STK üyesi misiniz?                            19.719002  \n",
      "Girisimcilikle Ilgili Deneyiminiz Var Mi?                      19.715931  \n",
      "Baba Calisma Durumu                                            19.375048  \n",
      "Anne Calisma Durumu                                            18.266411  \n",
      "Ingilizce Biliyor musunuz?                                      9.910173  \n",
      "Lise Mezuniyet Notu                                             9.085605  \n",
      "Universite Not Ortalamasi                                       4.227255  \n",
      "Ikametgah Sehri                                                 3.127831  \n",
      "Girisimcilik Kulupleri Tarzi Bir Kulube Uye mis...              2.808445  \n",
      "Kardes Sayisi                                                   1.738196  \n",
      "Profesyonel Bir Spor Daliyla Mesgul musunuz?                    1.712092  \n",
      "Lise Sehir                                                      1.618426  \n",
      "Lise Bolumu                                                     1.549328  \n",
      "Baba Egitim Durumu                                              1.546257  \n",
      "Lise Turu                                                       1.300576  \n",
      "Dogum Yeri                                                      1.214587  \n",
      "Anne Egitim Durumu                                              0.623417  \n",
      "Lise Adi                                                        0.589635  \n",
      "Universite Kacinci Sinif                                        0.574280  \n",
      "Universite Turu                                                 0.391555  \n",
      "Bölüm                                                           0.354702  \n",
      "Baska Bir Kurumdan Burs Aliyor mu?                              0.354702  \n",
      "Dogum Tarihi                                                    0.271785  \n",
      "Cinsiyet                                                        0.259501  \n",
      "Universite Adi                                                  0.202687  \n",
      "Degerlendirme Puani                                             0.001536  \n"
     ]
    }
   ],
   "source": [
    "# Her bir kolondaki eksik veri sayısını ve oranını hesaplar\n",
    "missing_data = train_df.isnull().sum()\n",
    "\n",
    "# Eksik veri oranını yüzdelik olarak hesaplar\n",
    "missing_percentage = (missing_data / len(train_df)) * 100\n",
    "\n",
    "# Eksik veri oranlarını bir DataFrame olarak gösterir\n",
    "missing_df = pd.DataFrame({\n",
    "    'Eksik Veri Sayısı': missing_data,\n",
    "    'Eksik Veri Oranı (%)': missing_percentage\n",
    "})\n",
    "\n",
    "# Eksik veri oranına göre sıralar ve gösterir\n",
    "missing_df = missing_df[missing_df['Eksik Veri Sayısı'] > 0].sort_values(by='Eksik Veri Oranı (%)', ascending=False)\n",
    "\n",
    "print(missing_df)\n"
   ]
  },
  {
   "cell_type": "code",
   "execution_count": 5,
   "id": "5384bb47",
   "metadata": {
    "execution": {
     "iopub.execute_input": "2024-09-12T16:53:35.994637Z",
     "iopub.status.busy": "2024-09-12T16:53:35.994203Z",
     "iopub.status.idle": "2024-09-12T16:53:36.148669Z",
     "shell.execute_reply": "2024-09-12T16:53:36.147094Z"
    },
    "papermill": {
     "duration": 0.166984,
     "end_time": "2024-09-12T16:53:36.151488",
     "exception": false,
     "start_time": "2024-09-12T16:53:35.984504",
     "status": "completed"
    },
    "tags": []
   },
   "outputs": [
    {
     "name": "stdout",
     "output_type": "stream",
     "text": [
      "Silinen sütunlar: ['Burslu ise Burs Yuzdesi', 'Daha Once Baska Bir Universiteden Mezun Olmus', 'Lise Adi Diger', 'Lise Bolum Diger', 'Burs Aldigi Baska Kurum', 'Baska Kurumdan Aldigi Burs Miktari', 'Anne Sektor', 'Uye Oldugunuz Kulubun Ismi', \"Hangi STK'nin Uyesisiniz?\", 'Girisimcilikle Ilgili Deneyiminizi Aciklayabilir misiniz?', 'Ingilizce Seviyeniz?', 'Daha Önceden Mezun Olunduysa, Mezun Olunan Üniversite']\n"
     ]
    }
   ],
   "source": [
    "# Her bir kolondaki eksik veri oranını hesaplar\n",
    "missing_percentage = train_df.isnull().sum() / len(train_df) * 100\n",
    "\n",
    "# %50'den fazla eksik verisi olan sütunları belirler\n",
    "columns_to_drop = missing_percentage[missing_percentage > 50].index\n",
    "\n",
    "# Bu sütunları veri setinden siler\n",
    "train_df.drop(columns=columns_to_drop, inplace=True)\n",
    "\n",
    "# Silinen sütunları görüntüler\n",
    "print(f\"Silinen sütunlar: {columns_to_drop.tolist()}\")\n"
   ]
  },
  {
   "cell_type": "code",
   "execution_count": 6,
   "id": "0ced3523",
   "metadata": {
    "execution": {
     "iopub.execute_input": "2024-09-12T16:53:36.169879Z",
     "iopub.status.busy": "2024-09-12T16:53:36.169478Z",
     "iopub.status.idle": "2024-09-12T16:53:36.228634Z",
     "shell.execute_reply": "2024-09-12T16:53:36.227426Z"
    },
    "papermill": {
     "duration": 0.071918,
     "end_time": "2024-09-12T16:53:36.231551",
     "exception": false,
     "start_time": "2024-09-12T16:53:36.159633",
     "status": "completed"
    },
    "tags": []
   },
   "outputs": [],
   "source": [
    "train_df = train_df.drop('Dogum Yeri', axis=1)\n",
    "train_df = train_df.drop('Ikametgah Sehri', axis=1)\n"
   ]
  },
  {
   "cell_type": "markdown",
   "id": "ee623a58",
   "metadata": {
    "papermill": {
     "duration": 0.007314,
     "end_time": "2024-09-12T16:53:36.246679",
     "exception": false,
     "start_time": "2024-09-12T16:53:36.239365",
     "status": "completed"
    },
    "tags": []
   },
   "source": [
    "**NÜMERİK VERİLERİN DAĞILIMINI ANLAMA**"
   ]
  },
  {
   "cell_type": "code",
   "execution_count": 7,
   "id": "d03d8cd3",
   "metadata": {
    "execution": {
     "iopub.execute_input": "2024-09-12T16:53:36.264231Z",
     "iopub.status.busy": "2024-09-12T16:53:36.263648Z",
     "iopub.status.idle": "2024-09-12T16:53:39.038890Z",
     "shell.execute_reply": "2024-09-12T16:53:39.037743Z"
    },
    "papermill": {
     "duration": 2.787812,
     "end_time": "2024-09-12T16:53:39.042141",
     "exception": false,
     "start_time": "2024-09-12T16:53:36.254329",
     "status": "completed"
    },
    "tags": []
   },
   "outputs": [
    {
     "name": "stderr",
     "output_type": "stream",
     "text": [
      "/opt/conda/lib/python3.10/site-packages/seaborn/_oldcore.py:1119: FutureWarning: use_inf_as_na option is deprecated and will be removed in a future version. Convert inf values to NaN before operating instead.\n",
      "  with pd.option_context('mode.use_inf_as_na', True):\n",
      "/opt/conda/lib/python3.10/site-packages/seaborn/_oldcore.py:1119: FutureWarning: use_inf_as_na option is deprecated and will be removed in a future version. Convert inf values to NaN before operating instead.\n",
      "  with pd.option_context('mode.use_inf_as_na', True):\n",
      "/opt/conda/lib/python3.10/site-packages/seaborn/_oldcore.py:1119: FutureWarning: use_inf_as_na option is deprecated and will be removed in a future version. Convert inf values to NaN before operating instead.\n",
      "  with pd.option_context('mode.use_inf_as_na', True):\n"
     ]
    },
    {
     "data": {
      "image/png": "[encoded data removed]",
      "text/plain": [
       "<Figure size 1500x1500 with 6 Axes>"
      ]
     },
     "metadata": {},
     "output_type": "display_data"
    }
   ],
   "source": [
    "import matplotlib.pyplot as plt\n",
    "import seaborn as sns\n",
    "\n",
    "# Tüm numerik değişkenleri seçin\n",
    "numerik_degiskenler = train_df.select_dtypes(include=['float64', 'int64']).columns\n",
    "\n",
    "# Histogram ve Kutu Grafiği (Box Plot) çizimi\n",
    "plt.figure(figsize=(15, len(numerik_degiskenler) * 5))\n",
    "\n",
    "for i, column in enumerate(numerik_degiskenler):\n",
    "    plt.subplot(len(numerik_degiskenler), 2, 2*i + 1)\n",
    "    sns.histplot(train_df[column].dropna(), kde=True)\n",
    "    plt.title(f'{column} - Histogram')\n",
    "\n",
    "    plt.subplot(len(numerik_degiskenler), 2, 2*i + 2)\n",
    "    sns.boxplot(x=train_df[column])\n",
    "    plt.title(f'{column} - Box Plot')\n",
    "\n",
    "plt.tight_layout()\n",
    "plt.show()\n"
   ]
  },
  {
   "cell_type": "markdown",
   "id": "b66fef69",
   "metadata": {
    "papermill": {
     "duration": 0.009676,
     "end_time": "2024-09-12T16:53:39.062665",
     "exception": false,
     "start_time": "2024-09-12T16:53:39.052989",
     "status": "completed"
    },
    "tags": []
   },
   "source": [
    "Başvuru yılında uç değer olmadığı için ortalamayla doldurduk"
   ]
  },
  {
   "cell_type": "code",
   "execution_count": 8,
   "id": "0d1eeb06",
   "metadata": {
    "execution": {
     "iopub.execute_input": "2024-09-12T16:53:39.084832Z",
     "iopub.status.busy": "2024-09-12T16:53:39.084404Z",
     "iopub.status.idle": "2024-09-12T16:53:39.091779Z",
     "shell.execute_reply": "2024-09-12T16:53:39.090477Z"
    },
    "papermill": {
     "duration": 0.021537,
     "end_time": "2024-09-12T16:53:39.094502",
     "exception": false,
     "start_time": "2024-09-12T16:53:39.072965",
     "status": "completed"
    },
    "tags": []
   },
   "outputs": [],
   "source": [
    "train_df['Basvuru Yili'] = train_df['Basvuru Yili'].fillna(train_df['Basvuru Yili'].mean())"
   ]
  },
  {
   "cell_type": "markdown",
   "id": "084a3490",
   "metadata": {
    "papermill": {
     "duration": 0.00987,
     "end_time": "2024-09-12T16:53:39.114263",
     "exception": false,
     "start_time": "2024-09-12T16:53:39.104393",
     "status": "completed"
    },
    "tags": []
   },
   "source": [
    "**KATEGORİK DEĞİŞKENLERİN DÜZENLENMESİ**"
   ]
  },
  {
   "cell_type": "code",
   "execution_count": 9,
   "id": "289ebc13",
   "metadata": {
    "execution": {
     "iopub.execute_input": "2024-09-12T16:53:39.136070Z",
     "iopub.status.busy": "2024-09-12T16:53:39.135593Z",
     "iopub.status.idle": "2024-09-12T16:53:39.236007Z",
     "shell.execute_reply": "2024-09-12T16:53:39.234606Z"
    },
    "papermill": {
     "duration": 0.115129,
     "end_time": "2024-09-12T16:53:39.239263",
     "exception": false,
     "start_time": "2024-09-12T16:53:39.124134",
     "status": "completed"
    },
    "tags": []
   },
   "outputs": [
    {
     "name": "stdout",
     "output_type": "stream",
     "text": [
      "<class 'pandas.core.frame.DataFrame'>\n",
      "RangeIndex: 65125 entries, 0 to 65124\n",
      "Data columns (total 30 columns):\n",
      " #   Column                                                Non-Null Count  Dtype  \n",
      "---  ------                                                --------------  -----  \n",
      " 0   Basvuru Yili                                          65125 non-null  int64  \n",
      " 1   Degerlendirme Puani                                   65124 non-null  float64\n",
      " 2   Cinsiyet                                              64956 non-null  object \n",
      " 3   Dogum Tarihi                                          64948 non-null  object \n",
      " 4   Universite Adi                                        64993 non-null  object \n",
      " 5   Universite Turu                                       64870 non-null  object \n",
      " 6   Burs Aliyor mu?                                       65125 non-null  object \n",
      " 7   Bölüm                                                 64894 non-null  object \n",
      " 8   Universite Kacinci Sinif                              64751 non-null  object \n",
      " 9   Universite Not Ortalamasi                             62372 non-null  object \n",
      " 10  Lise Adi                                              64741 non-null  object \n",
      " 11  Lise Sehir                                            64071 non-null  object \n",
      " 12  Lise Turu                                             64278 non-null  object \n",
      " 13  Lise Bolumu                                           64116 non-null  object \n",
      " 14  Lise Mezuniyet Notu                                   59208 non-null  object \n",
      " 15  Baska Bir Kurumdan Burs Aliyor mu?                    64894 non-null  object \n",
      " 16  Anne Egitim Durumu                                    64719 non-null  object \n",
      " 17  Anne Calisma Durumu                                   53229 non-null  object \n",
      " 18  Baba Egitim Durumu                                    64118 non-null  object \n",
      " 19  Baba Calisma Durumu                                   52507 non-null  object \n",
      " 20  Baba Sektor                                           44747 non-null  object \n",
      " 21  Kardes Sayisi                                         63993 non-null  object \n",
      " 22  Girisimcilik Kulupleri Tarzi Bir Kulube Uye misiniz?  63296 non-null  object \n",
      " 23  Profesyonel Bir Spor Daliyla Mesgul musunuz?          64010 non-null  object \n",
      " 24  Spor Dalindaki Rolunuz Nedir?                         32850 non-null  object \n",
      " 25  Aktif olarak bir STK üyesi misiniz?                   52283 non-null  object \n",
      " 26  Stk Projesine Katildiniz Mi?                          36817 non-null  object \n",
      " 27  Girisimcilikle Ilgili Deneyiminiz Var Mi?             52285 non-null  object \n",
      " 28  Ingilizce Biliyor musunuz?                            58671 non-null  object \n",
      " 29  id                                                    65125 non-null  int64  \n",
      "dtypes: float64(1), int64(2), object(27)\n",
      "memory usage: 14.9+ MB\n"
     ]
    }
   ],
   "source": [
    "train_df.info()"
   ]
  },
  {
   "cell_type": "code",
   "execution_count": 10,
   "id": "35f177fb",
   "metadata": {
    "execution": {
     "iopub.execute_input": "2024-09-12T16:53:39.262775Z",
     "iopub.status.busy": "2024-09-12T16:53:39.261628Z",
     "iopub.status.idle": "2024-09-12T16:53:40.180948Z",
     "shell.execute_reply": "2024-09-12T16:53:40.179535Z"
    },
    "papermill": {
     "duration": 0.934662,
     "end_time": "2024-09-12T16:53:40.184377",
     "exception": false,
     "start_time": "2024-09-12T16:53:39.249715",
     "status": "completed"
    },
    "tags": []
   },
   "outputs": [
    {
     "name": "stderr",
     "output_type": "stream",
     "text": [
      "/tmp/ipykernel_17/4043184512.py:2: FutureWarning: DataFrame.applymap has been deprecated. Use DataFrame.map instead.\n",
      "  train_df = train_df.applymap(lambda x: x.lower() if isinstance(x, str) else x)\n"
     ]
    }
   ],
   "source": [
    "# Tüm veri çerçevesindeki metin verilerini küçük harfe dönüştürme\n",
    "train_df = train_df.applymap(lambda x: x.lower() if isinstance(x, str) else x)\n"
   ]
  },
  {
   "cell_type": "code",
   "execution_count": 11,
   "id": "3472d0ed",
   "metadata": {
    "execution": {
     "iopub.execute_input": "2024-09-12T16:53:40.212590Z",
     "iopub.status.busy": "2024-09-12T16:53:40.211574Z",
     "iopub.status.idle": "2024-09-12T16:53:40.242197Z",
     "shell.execute_reply": "2024-09-12T16:53:40.240814Z"
    },
    "papermill": {
     "duration": 0.046302,
     "end_time": "2024-09-12T16:53:40.244795",
     "exception": false,
     "start_time": "2024-09-12T16:53:40.198493",
     "status": "completed"
    },
    "tags": []
   },
   "outputs": [
    {
     "data": {
      "text/plain": [
       "0        erkek\n",
       "1        erkek\n",
       "2        erkek\n",
       "3        erkek\n",
       "4        erkek\n",
       "         ...  \n",
       "65120    erkek\n",
       "65121    erkek\n",
       "65122    erkek\n",
       "65123    erkek\n",
       "65124    kadın\n",
       "Name: Cinsiyet, Length: 65125, dtype: object"
      ]
     },
     "execution_count": 11,
     "metadata": {},
     "output_type": "execute_result"
    }
   ],
   "source": [
    "train_df['Cinsiyet'].fillna(train_df['Cinsiyet'].mode()[0])"
   ]
  },
  {
   "cell_type": "markdown",
   "id": "386ed2f2",
   "metadata": {
    "papermill": {
     "duration": 0.009749,
     "end_time": "2024-09-12T16:53:40.264765",
     "exception": false,
     "start_time": "2024-09-12T16:53:40.255016",
     "status": "completed"
    },
    "tags": []
   },
   "source": [
    "doğum tarihini tek tip formata çevirme"
   ]
  },
  {
   "cell_type": "code",
   "execution_count": 12,
   "id": "7a215082",
   "metadata": {
    "execution": {
     "iopub.execute_input": "2024-09-12T16:53:40.290645Z",
     "iopub.status.busy": "2024-09-12T16:53:40.289764Z",
     "iopub.status.idle": "2024-09-12T16:53:44.017459Z",
     "shell.execute_reply": "2024-09-12T16:53:44.015908Z"
    },
    "papermill": {
     "duration": 3.741871,
     "end_time": "2024-09-12T16:53:44.020093",
     "exception": false,
     "start_time": "2024-09-12T16:53:40.278222",
     "status": "completed"
    },
    "tags": []
   },
   "outputs": [],
   "source": [
    "import pandas as pd\n",
    "from dateutil import parser\n",
    "\n",
    "def extract_year(date_str):\n",
    "    if isinstance(date_str, str):\n",
    "        try:\n",
    "            # Tarihi parse et ve sadece yıl bilgisini al\n",
    "            date = parser.parse(date_str, fuzzy=True, dayfirst=True)\n",
    "            return date.year\n",
    "        except (ValueError, TypeError):\n",
    "            return None\n",
    "    return None\n",
    "\n",
    "# Örnek veri\n",
    "\n",
    "# Sadece yıl bilgisini çıkarma\n",
    "train_df['Dogum Tarihi'] = train_df['Dogum Tarihi'].apply(extract_year)"
   ]
  },
  {
   "cell_type": "code",
   "execution_count": 13,
   "id": "31ff53ff",
   "metadata": {
    "execution": {
     "iopub.execute_input": "2024-09-12T16:53:44.042922Z",
     "iopub.status.busy": "2024-09-12T16:53:44.041959Z",
     "iopub.status.idle": "2024-09-12T16:53:44.136048Z",
     "shell.execute_reply": "2024-09-12T16:53:44.134535Z"
    },
    "papermill": {
     "duration": 0.108174,
     "end_time": "2024-09-12T16:53:44.138490",
     "exception": false,
     "start_time": "2024-09-12T16:53:44.030316",
     "status": "completed"
    },
    "tags": []
   },
   "outputs": [
    {
     "name": "stdout",
     "output_type": "stream",
     "text": [
      "<class 'pandas.core.frame.DataFrame'>\n",
      "RangeIndex: 65125 entries, 0 to 65124\n",
      "Data columns (total 30 columns):\n",
      " #   Column                                                Non-Null Count  Dtype  \n",
      "---  ------                                                --------------  -----  \n",
      " 0   Basvuru Yili                                          65125 non-null  int64  \n",
      " 1   Degerlendirme Puani                                   65124 non-null  float64\n",
      " 2   Cinsiyet                                              64956 non-null  object \n",
      " 3   Dogum Tarihi                                          63306 non-null  float64\n",
      " 4   Universite Adi                                        64993 non-null  object \n",
      " 5   Universite Turu                                       64870 non-null  object \n",
      " 6   Burs Aliyor mu?                                       65125 non-null  object \n",
      " 7   Bölüm                                                 64894 non-null  object \n",
      " 8   Universite Kacinci Sinif                              64751 non-null  object \n",
      " 9   Universite Not Ortalamasi                             62372 non-null  object \n",
      " 10  Lise Adi                                              64741 non-null  object \n",
      " 11  Lise Sehir                                            64071 non-null  object \n",
      " 12  Lise Turu                                             64278 non-null  object \n",
      " 13  Lise Bolumu                                           64116 non-null  object \n",
      " 14  Lise Mezuniyet Notu                                   59208 non-null  object \n",
      " 15  Baska Bir Kurumdan Burs Aliyor mu?                    64894 non-null  object \n",
      " 16  Anne Egitim Durumu                                    64719 non-null  object \n",
      " 17  Anne Calisma Durumu                                   53229 non-null  object \n",
      " 18  Baba Egitim Durumu                                    64118 non-null  object \n",
      " 19  Baba Calisma Durumu                                   52507 non-null  object \n",
      " 20  Baba Sektor                                           44747 non-null  object \n",
      " 21  Kardes Sayisi                                         63993 non-null  object \n",
      " 22  Girisimcilik Kulupleri Tarzi Bir Kulube Uye misiniz?  63296 non-null  object \n",
      " 23  Profesyonel Bir Spor Daliyla Mesgul musunuz?          64010 non-null  object \n",
      " 24  Spor Dalindaki Rolunuz Nedir?                         32850 non-null  object \n",
      " 25  Aktif olarak bir STK üyesi misiniz?                   52283 non-null  object \n",
      " 26  Stk Projesine Katildiniz Mi?                          36817 non-null  object \n",
      " 27  Girisimcilikle Ilgili Deneyiminiz Var Mi?             52285 non-null  object \n",
      " 28  Ingilizce Biliyor musunuz?                            58671 non-null  object \n",
      " 29  id                                                    65125 non-null  int64  \n",
      "dtypes: float64(2), int64(2), object(26)\n",
      "memory usage: 14.9+ MB\n"
     ]
    }
   ],
   "source": [
    "train_df.info()"
   ]
  },
  {
   "cell_type": "code",
   "execution_count": 14,
   "id": "48be54a3",
   "metadata": {
    "execution": {
     "iopub.execute_input": "2024-09-12T16:53:44.161929Z",
     "iopub.status.busy": "2024-09-12T16:53:44.161518Z",
     "iopub.status.idle": "2024-09-12T16:53:44.168851Z",
     "shell.execute_reply": "2024-09-12T16:53:44.167596Z"
    },
    "papermill": {
     "duration": 0.021972,
     "end_time": "2024-09-12T16:53:44.171476",
     "exception": false,
     "start_time": "2024-09-12T16:53:44.149504",
     "status": "completed"
    },
    "tags": []
   },
   "outputs": [],
   "source": [
    "train_df['Dogum Tarihi'] = train_df['Dogum Tarihi'].fillna(train_df['Dogum Tarihi'].mean())"
   ]
  },
  {
   "cell_type": "code",
   "execution_count": 15,
   "id": "97cdf937",
   "metadata": {
    "execution": {
     "iopub.execute_input": "2024-09-12T16:53:44.195525Z",
     "iopub.status.busy": "2024-09-12T16:53:44.195075Z",
     "iopub.status.idle": "2024-09-12T16:53:44.228495Z",
     "shell.execute_reply": "2024-09-12T16:53:44.226997Z"
    },
    "papermill": {
     "duration": 0.04873,
     "end_time": "2024-09-12T16:53:44.231388",
     "exception": false,
     "start_time": "2024-09-12T16:53:44.182658",
     "status": "completed"
    },
    "tags": []
   },
   "outputs": [
    {
     "data": {
      "text/html": [
       "<div>\n",
       "<style scoped>\n",
       "    .dataframe tbody tr th:only-of-type {\n",
       "        vertical-align: middle;\n",
       "    }\n",
       "\n",
       "    .dataframe tbody tr th {\n",
       "        vertical-align: top;\n",
       "    }\n",
       "\n",
       "    .dataframe thead th {\n",
       "        text-align: right;\n",
       "    }\n",
       "</style>\n",
       "<table border=\"1\" class=\"dataframe\">\n",
       "  <thead>\n",
       "    <tr style=\"text-align: right;\">\n",
       "      <th></th>\n",
       "      <th>Basvuru Yili</th>\n",
       "      <th>Degerlendirme Puani</th>\n",
       "      <th>Dogum Tarihi</th>\n",
       "      <th>id</th>\n",
       "    </tr>\n",
       "  </thead>\n",
       "  <tbody>\n",
       "    <tr>\n",
       "      <th>count</th>\n",
       "      <td>65125.000000</td>\n",
       "      <td>65124.000000</td>\n",
       "      <td>65125.000000</td>\n",
       "      <td>65125.000000</td>\n",
       "    </tr>\n",
       "    <tr>\n",
       "      <th>mean</th>\n",
       "      <td>2018.277298</td>\n",
       "      <td>32.086466</td>\n",
       "      <td>1999.136685</td>\n",
       "      <td>32562.000000</td>\n",
       "    </tr>\n",
       "    <tr>\n",
       "      <th>std</th>\n",
       "      <td>2.669979</td>\n",
       "      <td>18.139239</td>\n",
       "      <td>91.844595</td>\n",
       "      <td>18800.112478</td>\n",
       "    </tr>\n",
       "    <tr>\n",
       "      <th>min</th>\n",
       "      <td>2014.000000</td>\n",
       "      <td>0.000000</td>\n",
       "      <td>194.000000</td>\n",
       "      <td>0.000000</td>\n",
       "    </tr>\n",
       "    <tr>\n",
       "      <th>25%</th>\n",
       "      <td>2016.000000</td>\n",
       "      <td>18.000000</td>\n",
       "      <td>1995.000000</td>\n",
       "      <td>16281.000000</td>\n",
       "    </tr>\n",
       "    <tr>\n",
       "      <th>50%</th>\n",
       "      <td>2019.000000</td>\n",
       "      <td>29.000000</td>\n",
       "      <td>1998.000000</td>\n",
       "      <td>32562.000000</td>\n",
       "    </tr>\n",
       "    <tr>\n",
       "      <th>75%</th>\n",
       "      <td>2021.000000</td>\n",
       "      <td>44.000000</td>\n",
       "      <td>2000.000000</td>\n",
       "      <td>48843.000000</td>\n",
       "    </tr>\n",
       "    <tr>\n",
       "      <th>max</th>\n",
       "      <td>2022.000000</td>\n",
       "      <td>102.000000</td>\n",
       "      <td>9951.000000</td>\n",
       "      <td>65124.000000</td>\n",
       "    </tr>\n",
       "  </tbody>\n",
       "</table>\n",
       "</div>"
      ],
      "text/plain": [
       "       Basvuru Yili  Degerlendirme Puani  Dogum Tarihi            id\n",
       "count  65125.000000         65124.000000  65125.000000  65125.000000\n",
       "mean    2018.277298            32.086466   1999.136685  32562.000000\n",
       "std        2.669979            18.139239     91.844595  18800.112478\n",
       "min     2014.000000             0.000000    194.000000      0.000000\n",
       "25%     2016.000000            18.000000   1995.000000  16281.000000\n",
       "50%     2019.000000            29.000000   1998.000000  32562.000000\n",
       "75%     2021.000000            44.000000   2000.000000  48843.000000\n",
       "max     2022.000000           102.000000   9951.000000  65124.000000"
      ]
     },
     "execution_count": 15,
     "metadata": {},
     "output_type": "execute_result"
    }
   ],
   "source": [
    "train_df.describe()"
   ]
  },
  {
   "cell_type": "code",
   "execution_count": 16,
   "id": "c8204bcf",
   "metadata": {
    "execution": {
     "iopub.execute_input": "2024-09-12T16:53:44.254997Z",
     "iopub.status.busy": "2024-09-12T16:53:44.254576Z",
     "iopub.status.idle": "2024-09-12T16:53:44.259943Z",
     "shell.execute_reply": "2024-09-12T16:53:44.258743Z"
    },
    "papermill": {
     "duration": 0.020333,
     "end_time": "2024-09-12T16:53:44.262274",
     "exception": false,
     "start_time": "2024-09-12T16:53:44.241941",
     "status": "completed"
    },
    "tags": []
   },
   "outputs": [],
   "source": [
    "df=train_df"
   ]
  },
  {
   "cell_type": "code",
   "execution_count": 17,
   "id": "f35b3c2b",
   "metadata": {
    "execution": {
     "iopub.execute_input": "2024-09-12T16:53:44.285854Z",
     "iopub.status.busy": "2024-09-12T16:53:44.285403Z",
     "iopub.status.idle": "2024-09-12T16:53:44.790538Z",
     "shell.execute_reply": "2024-09-12T16:53:44.788787Z"
    },
    "papermill": {
     "duration": 0.520371,
     "end_time": "2024-09-12T16:53:44.793225",
     "exception": false,
     "start_time": "2024-09-12T16:53:44.272854",
     "status": "completed"
    },
    "tags": []
   },
   "outputs": [],
   "source": [
    "for column in df.select_dtypes(include=['object']).columns:\n",
    "    mode_value = df[column].mode()[0]\n",
    "    df[column] = df[column].fillna(mode_value)"
   ]
  },
  {
   "cell_type": "code",
   "execution_count": 18,
   "id": "d0c8327c",
   "metadata": {
    "execution": {
     "iopub.execute_input": "2024-09-12T16:53:44.817761Z",
     "iopub.status.busy": "2024-09-12T16:53:44.817265Z",
     "iopub.status.idle": "2024-09-12T16:53:44.916528Z",
     "shell.execute_reply": "2024-09-12T16:53:44.915123Z"
    },
    "papermill": {
     "duration": 0.114839,
     "end_time": "2024-09-12T16:53:44.919127",
     "exception": false,
     "start_time": "2024-09-12T16:53:44.804288",
     "status": "completed"
    },
    "tags": []
   },
   "outputs": [
    {
     "data": {
      "text/plain": [
       "Basvuru Yili                                            0\n",
       "Degerlendirme Puani                                     1\n",
       "Cinsiyet                                                0\n",
       "Dogum Tarihi                                            0\n",
       "Universite Adi                                          0\n",
       "Universite Turu                                         0\n",
       "Burs Aliyor mu?                                         0\n",
       "Bölüm                                                   0\n",
       "Universite Kacinci Sinif                                0\n",
       "Universite Not Ortalamasi                               0\n",
       "Lise Adi                                                0\n",
       "Lise Sehir                                              0\n",
       "Lise Turu                                               0\n",
       "Lise Bolumu                                             0\n",
       "Lise Mezuniyet Notu                                     0\n",
       "Baska Bir Kurumdan Burs Aliyor mu?                      0\n",
       "Anne Egitim Durumu                                      0\n",
       "Anne Calisma Durumu                                     0\n",
       "Baba Egitim Durumu                                      0\n",
       "Baba Calisma Durumu                                     0\n",
       "Baba Sektor                                             0\n",
       "Kardes Sayisi                                           0\n",
       "Girisimcilik Kulupleri Tarzi Bir Kulube Uye misiniz?    0\n",
       "Profesyonel Bir Spor Daliyla Mesgul musunuz?            0\n",
       "Spor Dalindaki Rolunuz Nedir?                           0\n",
       "Aktif olarak bir STK üyesi misiniz?                     0\n",
       "Stk Projesine Katildiniz Mi?                            0\n",
       "Girisimcilikle Ilgili Deneyiminiz Var Mi?               0\n",
       "Ingilizce Biliyor musunuz?                              0\n",
       "id                                                      0\n",
       "dtype: int64"
      ]
     },
     "execution_count": 18,
     "metadata": {},
     "output_type": "execute_result"
    }
   ],
   "source": [
    "df.isnull().sum()"
   ]
  },
  {
   "cell_type": "code",
   "execution_count": 19,
   "id": "109b1eda",
   "metadata": {
    "execution": {
     "iopub.execute_input": "2024-09-12T16:53:44.942531Z",
     "iopub.status.busy": "2024-09-12T16:53:44.942038Z",
     "iopub.status.idle": "2024-09-12T16:53:45.516260Z",
     "shell.execute_reply": "2024-09-12T16:53:45.515083Z"
    },
    "papermill": {
     "duration": 0.58896,
     "end_time": "2024-09-12T16:53:45.518809",
     "exception": false,
     "start_time": "2024-09-12T16:53:44.929849",
     "status": "completed"
    },
    "tags": []
   },
   "outputs": [],
   "source": [
    "for column in df.columns:\n",
    "    unique_values = df[column].unique()\n",
    "    mapping = {val: idx for idx, val in enumerate(unique_values)}\n",
    "    df[column] = df[column].map(mapping)"
   ]
  },
  {
   "cell_type": "code",
   "execution_count": 20,
   "id": "fed69924",
   "metadata": {
    "execution": {
     "iopub.execute_input": "2024-09-12T16:53:45.542757Z",
     "iopub.status.busy": "2024-09-12T16:53:45.541911Z",
     "iopub.status.idle": "2024-09-12T16:53:45.707309Z",
     "shell.execute_reply": "2024-09-12T16:53:45.706105Z"
    },
    "papermill": {
     "duration": 0.180562,
     "end_time": "2024-09-12T16:53:45.710049",
     "exception": false,
     "start_time": "2024-09-12T16:53:45.529487",
     "status": "completed"
    },
    "tags": []
   },
   "outputs": [],
   "source": [
    "from sklearn.model_selection import train_test_split\n",
    "\n",
    "X = df.drop(columns=[\"Degerlendirme Puani\"])  # Özellikler\n",
    "y = df[\"Degerlendirme Puani\"]  # Hedef değişken\n",
    "\n",
    "X_train, X_val, y_train, y_val = train_test_split(X, y, test_size=0.2, random_state=42)\n"
   ]
  },
  {
   "cell_type": "markdown",
   "id": "2d0aee2f",
   "metadata": {
    "papermill": {
     "duration": 0.010858,
     "end_time": "2024-09-12T16:53:45.732440",
     "exception": false,
     "start_time": "2024-09-12T16:53:45.721582",
     "status": "completed"
    },
    "tags": []
   },
   "source": [
    "model seçimi ve eiğtimi"
   ]
  },
  {
   "cell_type": "code",
   "execution_count": 21,
   "id": "1a0cf134",
   "metadata": {
    "execution": {
     "iopub.execute_input": "2024-09-12T16:53:45.756503Z",
     "iopub.status.busy": "2024-09-12T16:53:45.756010Z",
     "iopub.status.idle": "2024-09-12T16:54:39.546865Z",
     "shell.execute_reply": "2024-09-12T16:54:39.545688Z"
    },
    "papermill": {
     "duration": 53.816263,
     "end_time": "2024-09-12T16:54:39.559310",
     "exception": false,
     "start_time": "2024-09-12T16:53:45.743047",
     "status": "completed"
    },
    "tags": []
   },
   "outputs": [
    {
     "data": {
      "text/html": [
       "<style>#sk-container-id-1 {color: black;background-color: white;}#sk-container-id-1 pre{padding: 0;}#sk-container-id-1 div.sk-toggleable {background-color: white;}#sk-container-id-1 label.sk-toggleable__label {cursor: pointer;display: block;width: 100%;margin-bottom: 0;padding: 0.3em;box-sizing: border-box;text-align: center;}#sk-container-id-1 label.sk-toggleable__label-arrow:before {content: \"▸\";float: left;margin-right: 0.25em;color: #696969;}#sk-container-id-1 label.sk-toggleable__label-arrow:hover:before {color: black;}#sk-container-id-1 div.sk-estimator:hover label.sk-toggleable__label-arrow:before {color: black;}#sk-container-id-1 div.sk-toggleable__content {max-height: 0;max-width: 0;overflow: hidden;text-align: left;background-color: #f0f8ff;}#sk-container-id-1 div.sk-toggleable__content pre {margin: 0.2em;color: black;border-radius: 0.25em;background-color: #f0f8ff;}#sk-container-id-1 input.sk-toggleable__control:checked~div.sk-toggleable__content {max-height: 200px;max-width: 100%;overflow: auto;}#sk-container-id-1 input.sk-toggleable__control:checked~label.sk-toggleable__label-arrow:before {content: \"▾\";}#sk-container-id-1 div.sk-estimator input.sk-toggleable__control:checked~label.sk-toggleable__label {background-color: #d4ebff;}#sk-container-id-1 div.sk-label input.sk-toggleable__control:checked~label.sk-toggleable__label {background-color: #d4ebff;}#sk-container-id-1 input.sk-hidden--visually {border: 0;clip: rect(1px 1px 1px 1px);clip: rect(1px, 1px, 1px, 1px);height: 1px;margin: -1px;overflow: hidden;padding: 0;position: absolute;width: 1px;}#sk-container-id-1 div.sk-estimator {font-family: monospace;background-color: #f0f8ff;border: 1px dotted black;border-radius: 0.25em;box-sizing: border-box;margin-bottom: 0.5em;}#sk-container-id-1 div.sk-estimator:hover {background-color: #d4ebff;}#sk-container-id-1 div.sk-parallel-item::after {content: \"\";width: 100%;border-bottom: 1px solid gray;flex-grow: 1;}#sk-container-id-1 div.sk-label:hover label.sk-toggleable__label {background-color: #d4ebff;}#sk-container-id-1 div.sk-serial::before {content: \"\";position: absolute;border-left: 1px solid gray;box-sizing: border-box;top: 0;bottom: 0;left: 50%;z-index: 0;}#sk-container-id-1 div.sk-serial {display: flex;flex-direction: column;align-items: center;background-color: white;padding-right: 0.2em;padding-left: 0.2em;position: relative;}#sk-container-id-1 div.sk-item {position: relative;z-index: 1;}#sk-container-id-1 div.sk-parallel {display: flex;align-items: stretch;justify-content: center;background-color: white;position: relative;}#sk-container-id-1 div.sk-item::before, #sk-container-id-1 div.sk-parallel-item::before {content: \"\";position: absolute;border-left: 1px solid gray;box-sizing: border-box;top: 0;bottom: 0;left: 50%;z-index: -1;}#sk-container-id-1 div.sk-parallel-item {display: flex;flex-direction: column;z-index: 1;position: relative;background-color: white;}#sk-container-id-1 div.sk-parallel-item:first-child::after {align-self: flex-end;width: 50%;}#sk-container-id-1 div.sk-parallel-item:last-child::after {align-self: flex-start;width: 50%;}#sk-container-id-1 div.sk-parallel-item:only-child::after {width: 0;}#sk-container-id-1 div.sk-dashed-wrapped {border: 1px dashed gray;margin: 0 0.4em 0.5em 0.4em;box-sizing: border-box;padding-bottom: 0.4em;background-color: white;}#sk-container-id-1 div.sk-label label {font-family: monospace;font-weight: bold;display: inline-block;line-height: 1.2em;}#sk-container-id-1 div.sk-label-container {text-align: center;}#sk-container-id-1 div.sk-container {/* jupyter's `normalize.less` sets `[hidden] { display: none; }` but bootstrap.min.css set `[hidden] { display: none !important; }` so we also need the `!important` here to be able to override the default hidden behavior on the sphinx rendered scikit-learn.org. See: https://github.com/scikit-learn/scikit-learn/issues/21755 */display: inline-block !important;position: relative;}#sk-container-id-1 div.sk-text-repr-fallback {display: none;}</style><div id=\"sk-container-id-1\" class=\"sk-top-container\"><div class=\"sk-text-repr-fallback\"><pre>RandomForestRegressor(random_state=42)</pre><b>In a Jupyter environment, please rerun this cell to show the HTML representation or trust the notebook. <br />On GitHub, the HTML representation is unable to render, please try loading this page with nbviewer.org.</b></div><div class=\"sk-container\" hidden><div class=\"sk-item\"><div class=\"sk-estimator sk-toggleable\"><input class=\"sk-toggleable__control sk-hidden--visually\" id=\"sk-estimator-id-1\" type=\"checkbox\" checked><label for=\"sk-estimator-id-1\" class=\"sk-toggleable__label sk-toggleable__label-arrow\">RandomForestRegressor</label><div class=\"sk-toggleable__content\"><pre>RandomForestRegressor(random_state=42)</pre></div></div></div></div></div>"
      ],
      "text/plain": [
       "RandomForestRegressor(random_state=42)"
      ]
     },
     "execution_count": 21,
     "metadata": {},
     "output_type": "execute_result"
    }
   ],
   "source": [
    "from sklearn.ensemble import RandomForestRegressor\n",
    "\n",
    "model = RandomForestRegressor(random_state=42)\n",
    "model.fit(X_train, y_train)"
   ]
  },
  {
   "cell_type": "markdown",
   "id": "9e210677",
   "metadata": {
    "papermill": {
     "duration": 0.010628,
     "end_time": "2024-09-12T16:54:39.581330",
     "exception": false,
     "start_time": "2024-09-12T16:54:39.570702",
     "status": "completed"
    },
    "tags": []
   },
   "source": [
    "model değerlendirme"
   ]
  },
  {
   "cell_type": "code",
   "execution_count": 22,
   "id": "6a69e6f9",
   "metadata": {
    "execution": {
     "iopub.execute_input": "2024-09-12T16:54:39.604564Z",
     "iopub.status.busy": "2024-09-12T16:54:39.604124Z",
     "iopub.status.idle": "2024-09-12T16:54:40.077731Z",
     "shell.execute_reply": "2024-09-12T16:54:40.076085Z"
    },
    "papermill": {
     "duration": 0.487985,
     "end_time": "2024-09-12T16:54:40.080186",
     "exception": false,
     "start_time": "2024-09-12T16:54:39.592201",
     "status": "completed"
    },
    "tags": []
   },
   "outputs": [
    {
     "name": "stdout",
     "output_type": "stream",
     "text": [
      "Validation MSE: 361.4241160998081\n"
     ]
    }
   ],
   "source": [
    "from sklearn.metrics import mean_squared_error\n",
    "\n",
    "y_pred = model.predict(X_val)\n",
    "mse = mean_squared_error(y_val, y_pred)\n",
    "print(f\"Validation MSE: {mse}\")\n"
   ]
  },
  {
   "cell_type": "code",
   "execution_count": 23,
   "id": "c8549341",
   "metadata": {
    "execution": {
     "iopub.execute_input": "2024-09-12T16:54:40.104446Z",
     "iopub.status.busy": "2024-09-12T16:54:40.103424Z",
     "iopub.status.idle": "2024-09-12T16:54:41.496614Z",
     "shell.execute_reply": "2024-09-12T16:54:41.495486Z"
    },
    "papermill": {
     "duration": 1.408104,
     "end_time": "2024-09-12T16:54:41.499282",
     "exception": false,
     "start_time": "2024-09-12T16:54:40.091178",
     "status": "completed"
    },
    "tags": []
   },
   "outputs": [
    {
     "name": "stderr",
     "output_type": "stream",
     "text": [
      "/tmp/ipykernel_17/1676010668.py:6: FutureWarning: DataFrame.applymap has been deprecated. Use DataFrame.map instead.\n",
      "  test_x = test_x.applymap(lambda x: x.lower() if isinstance(x, str) else x)\n"
     ]
    }
   ],
   "source": [
    "test_x = pd.read_csv(\"/kaggle/input/datathon-2024/test_x.csv\")\n",
    "test_x.drop(columns=columns_to_drop, inplace=True)\n",
    "test_x = test_x.drop('Dogum Yeri', axis=1)\n",
    "test_x = test_x.drop('Ikametgah Sehri', axis=1)\n",
    "test_x['Basvuru Yili'] = test_x['Basvuru Yili'].fillna(test_x['Basvuru Yili'].mean())\n",
    "test_x = test_x.applymap(lambda x: x.lower() if isinstance(x, str) else x)\n",
    "test_x['Cinsiyet'].fillna(test_x['Cinsiyet'].mode()[0])\n",
    "test_x['Dogum Tarihi'] = test_x['Dogum Tarihi'].apply(extract_year)\n",
    "test_x['Dogum Tarihi'] = test_x['Dogum Tarihi'].fillna(test_x['Dogum Tarihi'].mean())\n",
    "for column in test_x.select_dtypes(include=['object']).columns:\n",
    "    mode_value = test_x[column].mode()[0]\n",
    "    df[column] = test_x[column].fillna(mode_value)\n",
    "for column in test_x.columns:\n",
    "    unique_values = test_x[column].unique()\n",
    "    mapping = {val: idx for idx, val in enumerate(unique_values)}\n",
    "    test_x[column] = test_x[column].map(mapping)\n"
   ]
  },
  {
   "cell_type": "code",
   "execution_count": 24,
   "id": "4cc59080",
   "metadata": {
    "execution": {
     "iopub.execute_input": "2024-09-12T16:54:41.523527Z",
     "iopub.status.busy": "2024-09-12T16:54:41.523107Z",
     "iopub.status.idle": "2024-09-12T16:54:41.672656Z",
     "shell.execute_reply": "2024-09-12T16:54:41.671503Z"
    },
    "papermill": {
     "duration": 0.164766,
     "end_time": "2024-09-12T16:54:41.675280",
     "exception": false,
     "start_time": "2024-09-12T16:54:41.510514",
     "status": "completed"
    },
    "tags": []
   },
   "outputs": [],
   "source": [
    "test_predictions = model.predict(test_x)"
   ]
  },
  {
   "cell_type": "code",
   "execution_count": 25,
   "id": "66790f8d",
   "metadata": {
    "execution": {
     "iopub.execute_input": "2024-09-12T16:54:41.699272Z",
     "iopub.status.busy": "2024-09-12T16:54:41.698377Z",
     "iopub.status.idle": "2024-09-12T16:54:41.721389Z",
     "shell.execute_reply": "2024-09-12T16:54:41.720258Z"
    },
    "papermill": {
     "duration": 0.03781,
     "end_time": "2024-09-12T16:54:41.724070",
     "exception": false,
     "start_time": "2024-09-12T16:54:41.686260",
     "status": "completed"
    },
    "tags": []
   },
   "outputs": [],
   "source": [
    "submission = pd.DataFrame({\n",
    "    \"id\": test_x[\"id\"],\n",
    "    \"Degerlendirme Puani\": test_predictions\n",
    "})\n",
    "submission.to_csv(\"submission.csv\", index=False)\n"
   ]
  }
 ],
 "metadata": {
  "kaggle": {
   "accelerator": "none",
   "dataSources": [
    {
     "databundleVersionId": 9495861,
     "sourceId": 84622,
     "sourceType": "competition"
    }
   ],
   "dockerImageVersionId": 30761,
   "isGpuEnabled": false,
   "isInternetEnabled": true,
   "language": "python",
   "sourceType": "notebook"
  },
  "kernelspec": {
   "display_name": "Python 3",
   "language": "python",
   "name": "python3"
  },
  "language_info": {
   "codemirror_mode": {
    "name": "ipython",
    "version": 3
   },
   "file_extension": ".py",
   "mimetype": "text/x-python",
   "name": "python",
   "nbconvert_exporter": "python",
   "pygments_lexer": "ipython3",
   "version": "3.10.14"
  },
  "papermill": {
   "default_parameters": {},
   "duration": 73.49182,
   "end_time": "2024-09-12T16:54:42.458495",
   "environment_variables": {},
   "exception": null,
   "input_path": "__notebook__.ipynb",
   "output_path": "__notebook__.ipynb",
   "parameters": {},
   "start_time": "2024-09-12T16:53:28.966675",
   "version": "2.6.0"
  }
 },
 "nbformat": 4,
 "nbformat_minor": 5
}
